{
 "cells": [
  {
   "cell_type": "code",
   "execution_count": 1,
   "id": "ac3ff58d",
   "metadata": {
    "_cell_guid": "b1076dfc-b9ad-4769-8c92-a6c4dae69d19",
    "_uuid": "8f2839f25d086af736a60e9eeb907d3b93b6e0e5",
    "execution": {
     "iopub.execute_input": "2022-06-29T16:27:18.851001Z",
     "iopub.status.busy": "2022-06-29T16:27:18.850226Z",
     "iopub.status.idle": "2022-06-29T16:27:24.776714Z",
     "shell.execute_reply": "2022-06-29T16:27:24.775657Z",
     "shell.execute_reply.started": "2022-06-29T15:48:01.935290Z"
    },
    "papermill": {
     "duration": 6.031062,
     "end_time": "2022-06-29T16:27:24.776941",
     "exception": false,
     "start_time": "2022-06-29T16:27:18.745879",
     "status": "completed"
    },
    "tags": []
   },
   "outputs": [
    {
     "name": "stderr",
     "output_type": "stream",
     "text": [
      "2022-06-29 16:27:19.538740: I tensorflow/stream_executor/platform/default/dso_loader.cc:49] Successfully opened dynamic library libcudart.so.11.0\n"
     ]
    }
   ],
   "source": [
    "import tensorflow as tf\n",
    "from tensorflow import keras\n",
    "import numpy as np\n",
    "import cv2\n",
    "from tensorflow.keras.models import Sequential\n",
    "from tensorflow.keras.layers import Dense,Dropout,Flatten\n",
    "from tensorflow.keras.layers import Convolution2D\n",
    "from tensorflow.keras.layers import MaxPooling2D\n",
    "from tensorflow.keras.preprocessing.image import ImageDataGenerator"
   ]
  },
  {
   "cell_type": "code",
   "execution_count": 2,
   "id": "dcd695be",
   "metadata": {
    "execution": {
     "iopub.execute_input": "2022-06-29T16:27:24.815927Z",
     "iopub.status.busy": "2022-06-29T16:27:24.814286Z",
     "iopub.status.idle": "2022-06-29T16:27:24.819659Z",
     "shell.execute_reply": "2022-06-29T16:27:24.820440Z",
     "shell.execute_reply.started": "2022-06-29T15:48:12.998234Z"
    },
    "papermill": {
     "duration": 0.03382,
     "end_time": "2022-06-29T16:27:24.825877",
     "exception": false,
     "start_time": "2022-06-29T16:27:24.792057",
     "status": "completed"
    },
    "tags": []
   },
   "outputs": [],
   "source": [
    "train=\"../input/fer2013/train\"\n",
    "test=\"../input/fer2013/test\"\n",
    "train_dgen=ImageDataGenerator(rescale=1./255)\n",
    "test_dgen=ImageDataGenerator(rescale=1./255)"
   ]
  },
  {
   "cell_type": "code",
   "execution_count": 3,
   "id": "350250dc",
   "metadata": {
    "execution": {
     "iopub.execute_input": "2022-06-29T16:27:24.873064Z",
     "iopub.status.busy": "2022-06-29T16:27:24.871966Z",
     "iopub.status.idle": "2022-06-29T16:27:52.396662Z",
     "shell.execute_reply": "2022-06-29T16:27:52.395057Z",
     "shell.execute_reply.started": "2022-06-29T15:48:17.896776Z"
    },
    "papermill": {
     "duration": 27.549069,
     "end_time": "2022-06-29T16:27:52.396890",
     "exception": false,
     "start_time": "2022-06-29T16:27:24.847821",
     "status": "completed"
    },
    "tags": []
   },
   "outputs": [
    {
     "name": "stdout",
     "output_type": "stream",
     "text": [
      "Found 28709 images belonging to 7 classes.\n",
      "Found 7178 images belonging to 7 classes.\n"
     ]
    }
   ],
   "source": [
    "train_gen=train_dgen.flow_from_directory(\n",
    "    train,\n",
    "    target_size=(48,48),\n",
    "    batch_size=64,\n",
    "    color_mode=\"grayscale\",\n",
    "    class_mode=\"categorical\"\n",
    ")\n",
    "test_gen=test_dgen.flow_from_directory(\n",
    "    test,\n",
    "    target_size=(48,48),\n",
    "    batch_size=64,\n",
    "    color_mode=\"grayscale\",\n",
    "    class_mode=\"categorical\"\n",
    ")"
   ]
  },
  {
   "cell_type": "code",
   "execution_count": 4,
   "id": "541281c1",
   "metadata": {
    "execution": {
     "iopub.execute_input": "2022-06-29T16:27:52.425261Z",
     "iopub.status.busy": "2022-06-29T16:27:52.424504Z",
     "iopub.status.idle": "2022-06-29T16:27:55.124966Z",
     "shell.execute_reply": "2022-06-29T16:27:55.124196Z",
     "shell.execute_reply.started": "2022-06-29T15:48:35.682969Z"
    },
    "papermill": {
     "duration": 2.717625,
     "end_time": "2022-06-29T16:27:55.125156",
     "exception": false,
     "start_time": "2022-06-29T16:27:52.407531",
     "status": "completed"
    },
    "tags": []
   },
   "outputs": [
    {
     "name": "stderr",
     "output_type": "stream",
     "text": [
      "2022-06-29 16:27:52.437734: I tensorflow/compiler/jit/xla_cpu_device.cc:41] Not creating XLA devices, tf_xla_enable_xla_devices not set\n",
      "2022-06-29 16:27:52.441436: I tensorflow/stream_executor/platform/default/dso_loader.cc:49] Successfully opened dynamic library libcuda.so.1\n",
      "2022-06-29 16:27:52.508200: I tensorflow/stream_executor/cuda/cuda_gpu_executor.cc:941] successful NUMA node read from SysFS had negative value (-1), but there must be at least one NUMA node, so returning NUMA node zero\n",
      "2022-06-29 16:27:52.509337: I tensorflow/core/common_runtime/gpu/gpu_device.cc:1720] Found device 0 with properties: \n",
      "pciBusID: 0000:00:04.0 name: Tesla P100-PCIE-16GB computeCapability: 6.0\n",
      "coreClock: 1.3285GHz coreCount: 56 deviceMemorySize: 15.90GiB deviceMemoryBandwidth: 681.88GiB/s\n",
      "2022-06-29 16:27:52.509384: I tensorflow/stream_executor/platform/default/dso_loader.cc:49] Successfully opened dynamic library libcudart.so.11.0\n",
      "2022-06-29 16:27:52.564340: I tensorflow/stream_executor/platform/default/dso_loader.cc:49] Successfully opened dynamic library libcublas.so.11\n",
      "2022-06-29 16:27:52.564486: I tensorflow/stream_executor/platform/default/dso_loader.cc:49] Successfully opened dynamic library libcublasLt.so.11\n",
      "2022-06-29 16:27:52.591472: I tensorflow/stream_executor/platform/default/dso_loader.cc:49] Successfully opened dynamic library libcufft.so.10\n",
      "2022-06-29 16:27:52.601205: I tensorflow/stream_executor/platform/default/dso_loader.cc:49] Successfully opened dynamic library libcurand.so.10\n",
      "2022-06-29 16:27:52.630931: I tensorflow/stream_executor/platform/default/dso_loader.cc:49] Successfully opened dynamic library libcusolver.so.10\n",
      "2022-06-29 16:27:52.638972: I tensorflow/stream_executor/platform/default/dso_loader.cc:49] Successfully opened dynamic library libcusparse.so.11\n",
      "2022-06-29 16:27:52.643331: I tensorflow/stream_executor/platform/default/dso_loader.cc:49] Successfully opened dynamic library libcudnn.so.8\n",
      "2022-06-29 16:27:52.643551: I tensorflow/stream_executor/cuda/cuda_gpu_executor.cc:941] successful NUMA node read from SysFS had negative value (-1), but there must be at least one NUMA node, so returning NUMA node zero\n",
      "2022-06-29 16:27:52.644793: I tensorflow/stream_executor/cuda/cuda_gpu_executor.cc:941] successful NUMA node read from SysFS had negative value (-1), but there must be at least one NUMA node, so returning NUMA node zero\n",
      "2022-06-29 16:27:52.647164: I tensorflow/core/common_runtime/gpu/gpu_device.cc:1862] Adding visible gpu devices: 0\n",
      "2022-06-29 16:27:52.648528: I tensorflow/core/platform/cpu_feature_guard.cc:142] This TensorFlow binary is optimized with oneAPI Deep Neural Network Library (oneDNN) to use the following CPU instructions in performance-critical operations:  AVX2 FMA\n",
      "To enable them in other operations, rebuild TensorFlow with the appropriate compiler flags.\n",
      "2022-06-29 16:27:52.648772: I tensorflow/compiler/jit/xla_gpu_device.cc:99] Not creating XLA devices, tf_xla_enable_xla_devices not set\n",
      "2022-06-29 16:27:52.648976: I tensorflow/stream_executor/cuda/cuda_gpu_executor.cc:941] successful NUMA node read from SysFS had negative value (-1), but there must be at least one NUMA node, so returning NUMA node zero\n",
      "2022-06-29 16:27:52.649935: I tensorflow/core/common_runtime/gpu/gpu_device.cc:1720] Found device 0 with properties: \n",
      "pciBusID: 0000:00:04.0 name: Tesla P100-PCIE-16GB computeCapability: 6.0\n",
      "coreClock: 1.3285GHz coreCount: 56 deviceMemorySize: 15.90GiB deviceMemoryBandwidth: 681.88GiB/s\n",
      "2022-06-29 16:27:52.649981: I tensorflow/stream_executor/platform/default/dso_loader.cc:49] Successfully opened dynamic library libcudart.so.11.0\n",
      "2022-06-29 16:27:52.650016: I tensorflow/stream_executor/platform/default/dso_loader.cc:49] Successfully opened dynamic library libcublas.so.11\n",
      "2022-06-29 16:27:52.650063: I tensorflow/stream_executor/platform/default/dso_loader.cc:49] Successfully opened dynamic library libcublasLt.so.11\n",
      "2022-06-29 16:27:52.650094: I tensorflow/stream_executor/platform/default/dso_loader.cc:49] Successfully opened dynamic library libcufft.so.10\n",
      "2022-06-29 16:27:52.650124: I tensorflow/stream_executor/platform/default/dso_loader.cc:49] Successfully opened dynamic library libcurand.so.10\n",
      "2022-06-29 16:27:52.650154: I tensorflow/stream_executor/platform/default/dso_loader.cc:49] Successfully opened dynamic library libcusolver.so.10\n",
      "2022-06-29 16:27:52.650187: I tensorflow/stream_executor/platform/default/dso_loader.cc:49] Successfully opened dynamic library libcusparse.so.11\n",
      "2022-06-29 16:27:52.650218: I tensorflow/stream_executor/platform/default/dso_loader.cc:49] Successfully opened dynamic library libcudnn.so.8\n",
      "2022-06-29 16:27:52.650311: I tensorflow/stream_executor/cuda/cuda_gpu_executor.cc:941] successful NUMA node read from SysFS had negative value (-1), but there must be at least one NUMA node, so returning NUMA node zero\n",
      "2022-06-29 16:27:52.651302: I tensorflow/stream_executor/cuda/cuda_gpu_executor.cc:941] successful NUMA node read from SysFS had negative value (-1), but there must be at least one NUMA node, so returning NUMA node zero\n",
      "2022-06-29 16:27:52.652236: I tensorflow/core/common_runtime/gpu/gpu_device.cc:1862] Adding visible gpu devices: 0\n",
      "2022-06-29 16:27:52.655885: I tensorflow/stream_executor/platform/default/dso_loader.cc:49] Successfully opened dynamic library libcudart.so.11.0\n",
      "2022-06-29 16:27:54.661771: I tensorflow/core/common_runtime/gpu/gpu_device.cc:1261] Device interconnect StreamExecutor with strength 1 edge matrix:\n",
      "2022-06-29 16:27:54.661833: I tensorflow/core/common_runtime/gpu/gpu_device.cc:1267]      0 \n",
      "2022-06-29 16:27:54.661845: I tensorflow/core/common_runtime/gpu/gpu_device.cc:1280] 0:   N \n",
      "2022-06-29 16:27:54.664536: I tensorflow/stream_executor/cuda/cuda_gpu_executor.cc:941] successful NUMA node read from SysFS had negative value (-1), but there must be at least one NUMA node, so returning NUMA node zero\n",
      "2022-06-29 16:27:54.665652: I tensorflow/stream_executor/cuda/cuda_gpu_executor.cc:941] successful NUMA node read from SysFS had negative value (-1), but there must be at least one NUMA node, so returning NUMA node zero\n",
      "2022-06-29 16:27:54.666618: I tensorflow/stream_executor/cuda/cuda_gpu_executor.cc:941] successful NUMA node read from SysFS had negative value (-1), but there must be at least one NUMA node, so returning NUMA node zero\n",
      "2022-06-29 16:27:54.667537: I tensorflow/core/common_runtime/gpu/gpu_device.cc:1406] Created TensorFlow device (/job:localhost/replica:0/task:0/device:GPU:0 with 14957 MB memory) -> physical GPU (device: 0, name: Tesla P100-PCIE-16GB, pci bus id: 0000:00:04.0, compute capability: 6.0)\n"
     ]
    }
   ],
   "source": [
    "model=Sequential()\n",
    "model.add(Convolution2D(32,kernel_size=(3,3),activation='relu',input_shape=(48,48,1)))\n",
    "model.add(Convolution2D(64,kernel_size=(3,3),activation='relu'))\n",
    "model.add(MaxPooling2D(pool_size=(2,2)))\n",
    "model.add(Dropout(0.25))\n",
    "model.add(Convolution2D(128,kernel_size=(3,3),activation='relu'))\n",
    "model.add(MaxPooling2D(pool_size=(2,2)))\n",
    "model.add(Convolution2D(128,kernel_size=(3,3),activation='relu'))\n",
    "model.add(MaxPooling2D(pool_size=(2,2)))\n",
    "model.add(Dropout(0.25))\n",
    "model.add(Flatten())\n",
    "model.add(Dense(1024,activation='relu'))\n",
    "model.add(Dropout(0.5))\n",
    "model.add(Dense(7,activation=\"softmax\"))"
   ]
  },
  {
   "cell_type": "code",
   "execution_count": 5,
   "id": "ffbfe818",
   "metadata": {
    "execution": {
     "iopub.execute_input": "2022-06-29T16:27:55.157217Z",
     "iopub.status.busy": "2022-06-29T16:27:55.155209Z",
     "iopub.status.idle": "2022-06-29T16:27:55.165919Z",
     "shell.execute_reply": "2022-06-29T16:27:55.165216Z",
     "shell.execute_reply.started": "2022-06-29T15:48:45.501803Z"
    },
    "papermill": {
     "duration": 0.031389,
     "end_time": "2022-06-29T16:27:55.166123",
     "exception": false,
     "start_time": "2022-06-29T16:27:55.134734",
     "status": "completed"
    },
    "tags": []
   },
   "outputs": [],
   "source": [
    "model.compile(loss='categorical_crossentropy',optimizer='adam',metrics=['accuracy'])"
   ]
  },
  {
   "cell_type": "code",
   "execution_count": 6,
   "id": "25bd371b",
   "metadata": {
    "execution": {
     "iopub.execute_input": "2022-06-29T16:27:55.189894Z",
     "iopub.status.busy": "2022-06-29T16:27:55.188968Z",
     "iopub.status.idle": "2022-06-29T16:58:00.176264Z",
     "shell.execute_reply": "2022-06-29T16:58:00.177301Z",
     "shell.execute_reply.started": "2022-06-29T15:48:48.716640Z"
    },
    "papermill": {
     "duration": 1805.001911,
     "end_time": "2022-06-29T16:58:00.177602",
     "exception": false,
     "start_time": "2022-06-29T16:27:55.175691",
     "status": "completed"
    },
    "tags": []
   },
   "outputs": [
    {
     "name": "stderr",
     "output_type": "stream",
     "text": [
      "/opt/conda/lib/python3.7/site-packages/tensorflow/python/keras/engine/training.py:1844: UserWarning: `Model.fit_generator` is deprecated and will be removed in a future version. Please use `Model.fit`, which supports generators.\n",
      "  warnings.warn('`Model.fit_generator` is deprecated and '\n",
      "2022-06-29 16:27:55.617821: I tensorflow/compiler/mlir/mlir_graph_optimization_pass.cc:116] None of the MLIR optimization passes are enabled (registered 2)\n",
      "2022-06-29 16:27:55.622364: I tensorflow/core/platform/profile_utils/cpu_utils.cc:112] CPU Frequency: 2199995000 Hz\n"
     ]
    },
    {
     "name": "stdout",
     "output_type": "stream",
     "text": [
      "Epoch 1/50\n"
     ]
    },
    {
     "name": "stderr",
     "output_type": "stream",
     "text": [
      "2022-06-29 16:27:56.416876: I tensorflow/stream_executor/platform/default/dso_loader.cc:49] Successfully opened dynamic library libcublas.so.11\n",
      "2022-06-29 16:27:57.634206: I tensorflow/stream_executor/platform/default/dso_loader.cc:49] Successfully opened dynamic library libcublasLt.so.11\n",
      "2022-06-29 16:27:57.654233: I tensorflow/stream_executor/platform/default/dso_loader.cc:49] Successfully opened dynamic library libcudnn.so.8\n"
     ]
    },
    {
     "name": "stdout",
     "output_type": "stream",
     "text": [
      "448/448 [==============================] - 183s 390ms/step - loss: 1.7937 - accuracy: 0.2674 - val_loss: 1.5423 - val_accuracy: 0.3922\n",
      "Epoch 2/50\n",
      "448/448 [==============================] - 33s 74ms/step - loss: 1.5293 - accuracy: 0.4063 - val_loss: 1.3099 - val_accuracy: 0.4997\n",
      "Epoch 3/50\n",
      "448/448 [==============================] - 33s 73ms/step - loss: 1.3367 - accuracy: 0.4877 - val_loss: 1.2477 - val_accuracy: 0.5253\n",
      "Epoch 4/50\n",
      "448/448 [==============================] - 33s 74ms/step - loss: 1.2504 - accuracy: 0.5265 - val_loss: 1.1804 - val_accuracy: 0.5488\n",
      "Epoch 5/50\n",
      "448/448 [==============================] - 33s 73ms/step - loss: 1.1788 - accuracy: 0.5545 - val_loss: 1.1460 - val_accuracy: 0.5672\n",
      "Epoch 6/50\n",
      "448/448 [==============================] - 33s 73ms/step - loss: 1.1315 - accuracy: 0.5724 - val_loss: 1.1199 - val_accuracy: 0.5744\n",
      "Epoch 7/50\n",
      "448/448 [==============================] - 34s 75ms/step - loss: 1.1004 - accuracy: 0.5845 - val_loss: 1.1076 - val_accuracy: 0.5759\n",
      "Epoch 8/50\n",
      "448/448 [==============================] - 33s 73ms/step - loss: 1.0516 - accuracy: 0.6011 - val_loss: 1.0883 - val_accuracy: 0.5903\n",
      "Epoch 9/50\n",
      "448/448 [==============================] - 33s 74ms/step - loss: 1.0408 - accuracy: 0.6070 - val_loss: 1.0810 - val_accuracy: 0.5963\n",
      "Epoch 10/50\n",
      "448/448 [==============================] - 33s 73ms/step - loss: 0.9882 - accuracy: 0.6290 - val_loss: 1.0817 - val_accuracy: 0.5942\n",
      "Epoch 11/50\n",
      "448/448 [==============================] - 33s 74ms/step - loss: 0.9656 - accuracy: 0.6340 - val_loss: 1.0696 - val_accuracy: 0.5971\n",
      "Epoch 12/50\n",
      "448/448 [==============================] - 33s 74ms/step - loss: 0.9434 - accuracy: 0.6443 - val_loss: 1.0532 - val_accuracy: 0.6095\n",
      "Epoch 13/50\n",
      "448/448 [==============================] - 33s 74ms/step - loss: 0.9026 - accuracy: 0.6601 - val_loss: 1.0620 - val_accuracy: 0.6048\n",
      "Epoch 14/50\n",
      "448/448 [==============================] - 33s 75ms/step - loss: 0.8931 - accuracy: 0.6648 - val_loss: 1.0447 - val_accuracy: 0.6124\n",
      "Epoch 15/50\n",
      "448/448 [==============================] - 35s 78ms/step - loss: 0.8595 - accuracy: 0.6775 - val_loss: 1.0553 - val_accuracy: 0.6109\n",
      "Epoch 16/50\n",
      "448/448 [==============================] - 35s 78ms/step - loss: 0.8387 - accuracy: 0.6860 - val_loss: 1.0456 - val_accuracy: 0.6134\n",
      "Epoch 17/50\n",
      "448/448 [==============================] - 32s 72ms/step - loss: 0.8011 - accuracy: 0.6971 - val_loss: 1.0582 - val_accuracy: 0.6136\n",
      "Epoch 18/50\n",
      "448/448 [==============================] - 34s 75ms/step - loss: 0.8090 - accuracy: 0.7023 - val_loss: 1.0536 - val_accuracy: 0.6115\n",
      "Epoch 19/50\n",
      "448/448 [==============================] - 33s 73ms/step - loss: 0.7852 - accuracy: 0.7063 - val_loss: 1.0665 - val_accuracy: 0.6136\n",
      "Epoch 20/50\n",
      "448/448 [==============================] - 33s 74ms/step - loss: 0.7465 - accuracy: 0.7218 - val_loss: 1.0561 - val_accuracy: 0.6165\n",
      "Epoch 21/50\n",
      "448/448 [==============================] - 33s 73ms/step - loss: 0.7268 - accuracy: 0.7277 - val_loss: 1.0540 - val_accuracy: 0.6200\n",
      "Epoch 22/50\n",
      "448/448 [==============================] - 33s 75ms/step - loss: 0.7174 - accuracy: 0.7349 - val_loss: 1.0624 - val_accuracy: 0.6187\n",
      "Epoch 23/50\n",
      "448/448 [==============================] - 33s 74ms/step - loss: 0.6959 - accuracy: 0.7410 - val_loss: 1.0816 - val_accuracy: 0.6137\n",
      "Epoch 24/50\n",
      "448/448 [==============================] - 34s 76ms/step - loss: 0.6823 - accuracy: 0.7433 - val_loss: 1.0746 - val_accuracy: 0.6110\n",
      "Epoch 25/50\n",
      "448/448 [==============================] - 34s 75ms/step - loss: 0.6722 - accuracy: 0.7487 - val_loss: 1.0642 - val_accuracy: 0.6203\n",
      "Epoch 26/50\n",
      "448/448 [==============================] - 33s 74ms/step - loss: 0.6506 - accuracy: 0.7571 - val_loss: 1.0872 - val_accuracy: 0.6148\n",
      "Epoch 27/50\n",
      "448/448 [==============================] - 33s 73ms/step - loss: 0.6338 - accuracy: 0.7672 - val_loss: 1.0625 - val_accuracy: 0.6177\n",
      "Epoch 28/50\n",
      "448/448 [==============================] - 33s 73ms/step - loss: 0.6257 - accuracy: 0.7661 - val_loss: 1.0803 - val_accuracy: 0.6170\n",
      "Epoch 29/50\n",
      "448/448 [==============================] - 32s 72ms/step - loss: 0.6185 - accuracy: 0.7704 - val_loss: 1.0965 - val_accuracy: 0.6207\n",
      "Epoch 30/50\n",
      "448/448 [==============================] - 33s 73ms/step - loss: 0.5905 - accuracy: 0.7833 - val_loss: 1.0914 - val_accuracy: 0.6186\n",
      "Epoch 31/50\n",
      "448/448 [==============================] - 32s 72ms/step - loss: 0.5901 - accuracy: 0.7818 - val_loss: 1.0903 - val_accuracy: 0.6168\n",
      "Epoch 32/50\n",
      "448/448 [==============================] - 34s 76ms/step - loss: 0.5929 - accuracy: 0.7798 - val_loss: 1.0833 - val_accuracy: 0.6201\n",
      "Epoch 33/50\n",
      "448/448 [==============================] - 33s 73ms/step - loss: 0.5768 - accuracy: 0.7879 - val_loss: 1.1077 - val_accuracy: 0.6210\n",
      "Epoch 34/50\n",
      "448/448 [==============================] - 35s 78ms/step - loss: 0.5726 - accuracy: 0.7911 - val_loss: 1.0977 - val_accuracy: 0.6208\n",
      "Epoch 35/50\n",
      "448/448 [==============================] - 33s 73ms/step - loss: 0.5649 - accuracy: 0.7928 - val_loss: 1.1026 - val_accuracy: 0.6257\n",
      "Epoch 36/50\n",
      "448/448 [==============================] - 34s 76ms/step - loss: 0.5493 - accuracy: 0.7971 - val_loss: 1.1129 - val_accuracy: 0.6189\n",
      "Epoch 37/50\n",
      "448/448 [==============================] - 32s 72ms/step - loss: 0.5329 - accuracy: 0.8025 - val_loss: 1.1268 - val_accuracy: 0.6159\n",
      "Epoch 38/50\n",
      "448/448 [==============================] - 34s 75ms/step - loss: 0.5265 - accuracy: 0.8060 - val_loss: 1.1321 - val_accuracy: 0.6215\n",
      "Epoch 39/50\n",
      "448/448 [==============================] - 32s 71ms/step - loss: 0.5169 - accuracy: 0.8094 - val_loss: 1.1231 - val_accuracy: 0.6236\n",
      "Epoch 40/50\n",
      "448/448 [==============================] - 34s 75ms/step - loss: 0.5163 - accuracy: 0.8113 - val_loss: 1.1329 - val_accuracy: 0.6221\n",
      "Epoch 41/50\n",
      "448/448 [==============================] - 32s 72ms/step - loss: 0.5215 - accuracy: 0.8118 - val_loss: 1.1523 - val_accuracy: 0.6253\n",
      "Epoch 42/50\n",
      "448/448 [==============================] - 33s 74ms/step - loss: 0.4998 - accuracy: 0.8148 - val_loss: 1.1700 - val_accuracy: 0.6278\n",
      "Epoch 43/50\n",
      "448/448 [==============================] - 32s 72ms/step - loss: 0.4925 - accuracy: 0.8248 - val_loss: 1.1541 - val_accuracy: 0.6264\n",
      "Epoch 44/50\n",
      "448/448 [==============================] - 32s 72ms/step - loss: 0.4803 - accuracy: 0.8208 - val_loss: 1.1642 - val_accuracy: 0.6303\n",
      "Epoch 45/50\n",
      "448/448 [==============================] - 34s 75ms/step - loss: 0.4799 - accuracy: 0.8255 - val_loss: 1.1465 - val_accuracy: 0.6281\n",
      "Epoch 46/50\n",
      "448/448 [==============================] - 31s 70ms/step - loss: 0.4764 - accuracy: 0.8268 - val_loss: 1.1341 - val_accuracy: 0.6271\n",
      "Epoch 47/50\n",
      "448/448 [==============================] - 35s 77ms/step - loss: 0.4692 - accuracy: 0.8285 - val_loss: 1.1889 - val_accuracy: 0.6230\n",
      "Epoch 48/50\n",
      "448/448 [==============================] - 32s 72ms/step - loss: 0.4679 - accuracy: 0.8332 - val_loss: 1.1613 - val_accuracy: 0.6300\n",
      "Epoch 49/50\n",
      "448/448 [==============================] - 34s 75ms/step - loss: 0.4616 - accuracy: 0.8341 - val_loss: 1.1753 - val_accuracy: 0.6208\n",
      "Epoch 50/50\n",
      "448/448 [==============================] - 31s 70ms/step - loss: 0.4571 - accuracy: 0.8316 - val_loss: 1.1698 - val_accuracy: 0.6261\n"
     ]
    }
   ],
   "source": [
    "train_model=model.fit_generator(\n",
    "    train_gen,\n",
    "    steps_per_epoch=28709 // 64,\n",
    "    epochs=50,\n",
    "    validation_data=test_gen,\n",
    "    validation_steps=7178 // 64\n",
    ")"
   ]
  },
  {
   "cell_type": "code",
   "execution_count": 7,
   "id": "33def660",
   "metadata": {
    "execution": {
     "iopub.execute_input": "2022-06-29T16:58:15.555909Z",
     "iopub.status.busy": "2022-06-29T16:58:15.554882Z",
     "iopub.status.idle": "2022-06-29T16:58:15.645493Z",
     "shell.execute_reply": "2022-06-29T16:58:15.644391Z",
     "shell.execute_reply.started": "2022-06-29T16:23:33.585836Z"
    },
    "papermill": {
     "duration": 7.80035,
     "end_time": "2022-06-29T16:58:15.645714",
     "exception": false,
     "start_time": "2022-06-29T16:58:07.845364",
     "status": "completed"
    },
    "tags": []
   },
   "outputs": [],
   "source": [
    "model.save('model.h5') "
   ]
  }
 ],
 "metadata": {
  "kernelspec": {
   "display_name": "Python 3",
   "language": "python",
   "name": "python3"
  },
  "language_info": {
   "codemirror_mode": {
    "name": "ipython",
    "version": 3
   },
   "file_extension": ".py",
   "mimetype": "text/x-python",
   "name": "python",
   "nbconvert_exporter": "python",
   "pygments_lexer": "ipython3",
   "version": "3.7.10"
  },
  "papermill": {
   "default_parameters": {},
   "duration": 1876.092362,
   "end_time": "2022-06-29T16:58:26.951221",
   "environment_variables": {},
   "exception": null,
   "input_path": "__notebook__.ipynb",
   "output_path": "__notebook__.ipynb",
   "parameters": {},
   "start_time": "2022-06-29T16:27:10.858859",
   "version": "2.3.3"
  }
 },
 "nbformat": 4,
 "nbformat_minor": 5
}
